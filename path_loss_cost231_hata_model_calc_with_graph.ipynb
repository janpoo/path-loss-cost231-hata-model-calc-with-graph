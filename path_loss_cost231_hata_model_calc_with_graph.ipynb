{
  "nbformat": 4,
  "nbformat_minor": 0,
  "metadata": {
    "colab": {
      "name": "path_loss_cost231_hata_model_calc_with_graph.ipynb",
      "provenance": [],
      "collapsed_sections": [],
      "authorship_tag": "ABX9TyP5c7gKuF6VFl+H/C5oQ1FO",
      "include_colab_link": true
    },
    "kernelspec": {
      "name": "python3",
      "display_name": "Python 3"
    }
  },
  "cells": [
    {
      "cell_type": "markdown",
      "metadata": {
        "id": "view-in-github",
        "colab_type": "text"
      },
      "source": [
        "<a href=\"https://colab.research.google.com/github/moefqy/path-loss-cost231-hata-model-calc-with-graph/blob/main/path_loss_cost231_hata_model_calc_with_graph.ipynb\" target=\"_parent\"><img src=\"https://colab.research.google.com/assets/colab-badge.svg\" alt=\"Open In Colab\"/></a>"
      ]
    },
    {
      "cell_type": "markdown",
      "metadata": {
        "id": "99AlsllbKe1w"
      },
      "source": [
        "#Path Loss COST231 HATA Model Calculator with Graphic for TUGAS13: Pemrograman Python\n",
        "\n",
        "Name: A. Muh. Mufqi Zuhudi<br/>\n",
        "NIM: 1101208451<br/>\n",
        "Class: TTX-44-01 "
      ]
    },
    {
      "cell_type": "markdown",
      "metadata": {
        "id": "Y8Hh7ck2VXPJ"
      },
      "source": [
        "#Formula of Path Loss COST231 Hata Model\n",
        "1. Import library\n",
        "2. Define area type function\n",
        "3. Define c1 and c2 function\n",
        "4. Define path loss cost231 hata model formula"
      ]
    },
    {
      "cell_type": "code",
      "metadata": {
        "id": "koT1wwfa6sTX"
      },
      "source": [
        "#import numpy library, matplotlib\n",
        "import numpy as np\n",
        "import matplotlib.pyplot as plt"
      ],
      "execution_count": 1,
      "outputs": []
    },
    {
      "cell_type": "code",
      "metadata": {
        "id": "TTCFYAFtCNH7"
      },
      "source": [
        "#define area type function\n",
        "def areatype(cm,fc):\n",
        "  if cm in [\"urban\",\"Urban\",\"URBAN\"]:\n",
        "    cmr = 0\n",
        "    return cmr\n",
        "  elif cm in [\"suburban\",\"Suburban\",\"SUBURBAN\"]:\n",
        "    cmr = (-2) * (np.log10(fc/28))**2 - 5.4\n",
        "    return cmr\n",
        "  elif cm in [\"open\",\"Open\",\"OPEN\"]:\n",
        "    cmr = (-4.78) * (np.log10(fc))**2 + 18.33*(np.log10(fc))- 40.94\n",
        "    return cmr"
      ],
      "execution_count": 2,
      "outputs": []
    },
    {
      "cell_type": "code",
      "metadata": {
        "id": "VegdjRSmCSFA"
      },
      "source": [
        "#find c1 and c2 function\n",
        "def c1c2(fc):\n",
        "  if fc in range(400,1500):\n",
        "    c1=69.55\n",
        "    c2=26.16\n",
        "    return c1,c2\n",
        "  elif fc in range(1500,2000):\n",
        "    c1=46.3\n",
        "    c2=33.9\n",
        "    return c1,c2"
      ],
      "execution_count": 3,
      "outputs": []
    },
    {
      "cell_type": "code",
      "metadata": {
        "id": "kfHrRqx0CTzg"
      },
      "source": [
        "#path loss model COST231 hata function\n",
        "def ploss(d,fc,cm,ht,hr):\n",
        "  cmr = areatype(cm,fc)\n",
        "  c1,c2 = c1c2(fc)\n",
        "\n",
        "  ahr = (1.1*np.log10(fc)-0.7)*hr - (1.56*np.log10(fc)-0.8)\n",
        "  lpdb = c1 + c2*np.log10(fc) - 13.83*np.log10(ht) - ahr + (44.9-(6.55*np.log10(ht)))*np.log10(d) + cmr\n",
        "  \n",
        "  return lpdb"
      ],
      "execution_count": 4,
      "outputs": []
    },
    {
      "cell_type": "markdown",
      "metadata": {
        "id": "oNl9P_oAVSKA"
      },
      "source": [
        "#Parameters of Path Loss COST231 Hata Model\n",
        "1. Define d,fc,cm,ht,hr\n",
        "2. Print distance (d)\n",
        "3. Print frequency (fc)\n",
        "4. Print area type (cm)\n"
      ]
    },
    {
      "cell_type": "code",
      "metadata": {
        "id": "JHGtCG_fNmJJ"
      },
      "source": [
        "#N=number of users; dmin=distance min; dmax=distance max; d=random distance; fc=frequency; cm=area type; ht=transmitter height; hr=receiver height\n",
        "N=200\n",
        "dmin=200\n",
        "dmax=700\n",
        "d=np.random.randint(dmin,dmax,N)\n",
        "fc=[700,900,1800]\n",
        "cm=[\"urban\",\"suburban\",\"open\"]\n",
        "ht=80\n",
        "hr=1.5"
      ],
      "execution_count": 5,
      "outputs": []
    },
    {
      "cell_type": "code",
      "metadata": {
        "colab": {
          "base_uri": "https://localhost:8080/"
        },
        "id": "v-9dNHSYPpeW",
        "outputId": "2a6c9cd1-24ea-4173-9416-a2351ae323ca"
      },
      "source": [
        "print(d)"
      ],
      "execution_count": 6,
      "outputs": [
        {
          "output_type": "stream",
          "text": [
            "[672 609 493 202 377 445 645 280 531 375 302 372 372 415 290 396 627 458\n",
            " 466 337 676 491 676 265 667 644 238 260 681 582 261 531 297 564 630 357\n",
            " 685 354 204 560 530 255 401 682 585 304 223 383 372 621 366 332 443 267\n",
            " 391 508 631 258 524 399 341 499 453 634 232 408 347 276 349 445 674 438\n",
            " 247 574 609 569 446 661 655 476 584 526 416 507 270 359 434 678 319 339\n",
            " 666 428 522 560 346 653 250 567 202 216 642 652 290 303 603 589 324 245\n",
            " 396 648 649 242 587 228 317 435 316 401 282 276 545 246 300 512 296 619\n",
            " 212 227 699 267 591 343 468 664 264 652 396 404 402 460 267 555 307 401\n",
            " 316 529 293 538 211 248 279 606 670 209 594 686 668 583 559 638 695 466\n",
            " 503 659 680 616 410 395 508 479 468 417 499 691 502 436 447 243 665 457\n",
            " 290 363 220 368 616 369 691 434 266 397 209 224 608 485 629 638 498 406\n",
            " 283 242]\n"
          ],
          "name": "stdout"
        }
      ]
    },
    {
      "cell_type": "code",
      "metadata": {
        "colab": {
          "base_uri": "https://localhost:8080/"
        },
        "id": "Hfy7fjljb3DA",
        "outputId": "6a5e8de9-21ec-4aa1-ba92-dc6e6dc1fa1d"
      },
      "source": [
        "print(fc)"
      ],
      "execution_count": 7,
      "outputs": [
        {
          "output_type": "stream",
          "text": [
            "[700, 900, 1800]\n"
          ],
          "name": "stdout"
        }
      ]
    },
    {
      "cell_type": "code",
      "metadata": {
        "colab": {
          "base_uri": "https://localhost:8080/"
        },
        "id": "sy0r4e8TWaTg",
        "outputId": "37f8eed0-b641-4f1e-84f5-0b82612c0827"
      },
      "source": [
        "print(cm)"
      ],
      "execution_count": 8,
      "outputs": [
        {
          "output_type": "stream",
          "text": [
            "['urban', 'suburban', 'open']\n"
          ],
          "name": "stdout"
        }
      ]
    },
    {
      "cell_type": "markdown",
      "metadata": {
        "id": "_6hc8439cKl2"
      },
      "source": [
        "#Graph of Path Loss COST231 Hata Model with frequency 1800MHz at Urban, Suburban, and Open Area\n",
        "1. print frequency (fc) and area type (cm)\n",
        "2. calculate and print path loss of freq 1800 at urban area\n",
        "3. calculate and print path loss of freq 1800 at suburban area\n",
        "4. calculate and print path loss of freq 1800 at open area\n",
        "5. show graph plot unsorted\n",
        "6. sort the arrays of path loss\n",
        "7. show graph plot sorted\n"
      ]
    },
    {
      "cell_type": "code",
      "metadata": {
        "id": "TXIZQu5FcpHI",
        "colab": {
          "base_uri": "https://localhost:8080/"
        },
        "outputId": "f19910be-2c09-46fa-a961-db92f6383cb2"
      },
      "source": [
        "print(fc[2])\n",
        "print(cm[0])\n",
        "print(cm[1])\n",
        "print(cm[2])"
      ],
      "execution_count": 9,
      "outputs": [
        {
          "output_type": "stream",
          "text": [
            "1800\n",
            "urban\n",
            "suburban\n",
            "open\n"
          ],
          "name": "stdout"
        }
      ]
    },
    {
      "cell_type": "code",
      "metadata": {
        "id": "4_Qv6qo7CfXE",
        "colab": {
          "base_uri": "https://localhost:8080/"
        },
        "outputId": "eef1caa8-65fd-4be5-807e-f0f59868eec4"
      },
      "source": [
        "#input d(distance(m)), fc(frequency(MHz)), cm(area type(urban,suburban,open)), ht(tx height(m)), hr(rx height(m))\n",
        "pathlossdb_urban=ploss(d,fc[2],cm[0],ht,hr)\n",
        "print(pathlossdb_urban)"
      ],
      "execution_count": 10,
      "outputs": [
        {
          "output_type": "stream",
          "text": [
            "[221.99607433 220.60942409 217.632874   205.06454861 213.85404376\n",
            " 216.18995178 221.41842557 209.66401374 218.67881724 213.77911679\n",
            " 210.72946032 213.66597371 213.66597371 215.20679209 210.1583184\n",
            " 214.54665031 221.01973186 216.59556361 216.83948723 212.27409956\n",
            " 222.07967243 217.57561279 222.07967243 208.88842864 221.89087416\n",
            " 221.3965695  207.37473349 208.62011124 222.18347715 219.97064392\n",
            " 208.67418515 218.67881724 210.4942923  219.52810792 221.0869694\n",
            " 213.08621132 222.26597366 212.96733941 205.2033304  219.42784958\n",
            " 218.65226448 208.34658347 214.72339337 222.20414662 220.0430669\n",
            " 210.82243913 206.45773489 214.07646266 213.66597371 220.88428622\n",
            " 213.43692415 212.06353902 216.12650015 208.9943407  214.3676614\n",
            " 218.05507056 221.10931078 208.51133666 218.49188812 214.65296204\n",
            " 212.44031078 217.80327411 216.44093815 221.1761231  207.01506533\n",
            " 214.96716624 212.6860072  209.46133056 212.76696281 216.18995178\n",
            " 222.0379354  215.96660924 207.89758171 219.77567558 220.60942409\n",
            " 219.65243562 216.22157073 221.76358802 221.63514119 217.13856933\n",
            " 220.01896725 218.54555004 215.24069401 218.02731442 209.15173046\n",
            " 213.16490559 215.8373768  222.12128616 211.50088024 212.35745032\n",
            " 221.86973952 215.64127752 218.43802099 219.42784958 212.64535425\n",
            " 221.59206398 208.06763896 219.60283614 205.06454861 206.00847739\n",
            " 221.35275535 221.57047587 210.1583184  210.77602644 220.46995525\n",
            " 220.13905526 211.71995522 207.78305882 214.54665031 221.48379106\n",
            " 221.50551233 207.60950955 220.09114284 206.77008112 211.41228726\n",
            " 215.86979623 211.36778094 214.72339337 209.76427208 209.46133056\n",
            " 219.04539429 207.84043665 210.63586371 218.16555142 210.44678386\n",
            " 220.83884671 205.74517557 206.70816349 222.55096506 208.9943407\n",
            " 220.18680526 212.52268667 216.89981383 221.82737486 208.83517248\n",
            " 221.57047587 214.54665031 214.82838445 214.75847742 216.65694164\n",
            " 208.9943407  219.30151476 210.96076663 214.72339337 211.36778094\n",
            " 218.62566156 210.30328954 218.8632982  205.67857385 207.95449588\n",
            " 209.6136157  220.53986228 221.9540885  205.54441819 220.25812813\n",
            " 222.28652251 221.91197714 219.99482631 219.4026731  221.26471608\n",
            " 222.4701256  216.83948723 217.91573968 221.72090242 222.16277732\n",
            " 220.77041141 215.03604773 214.51103401 218.05507056 217.22706954\n",
            " 216.89981383 215.27451452 217.80327411 222.38881953 217.88770735\n",
            " 215.90214122 216.25311887 207.66759721 221.84857312 216.564774\n",
            " 210.1583184  213.32098738 206.26694772 213.51368857 220.77041141\n",
            " 213.55191448 222.38881953 215.8373768  208.94148421 214.58217678\n",
            " 205.54441819 206.52076067 220.58627496 217.40241916 221.06459252\n",
            " 221.26471608 217.77501685 214.89794626 209.81413492 207.60950955]\n"
          ],
          "name": "stdout"
        }
      ]
    },
    {
      "cell_type": "code",
      "metadata": {
        "id": "NxjqvJu3Xjkp",
        "colab": {
          "base_uri": "https://localhost:8080/"
        },
        "outputId": "5cf42adc-e170-4397-ec6a-42e9e4dad631"
      },
      "source": [
        "#input d(distance(m)), fc(frequency(MHz)), cm(area type(urban,suburban,open)), ht(tx height(m)), hr(rx height(m))\n",
        "pathlossdb_suburban=ploss(d,fc[2],cm[1],ht,hr)\n",
        "print(pathlossdb_suburban)"
      ],
      "execution_count": 11,
      "outputs": [
        {
          "output_type": "stream",
          "text": [
            "[210.05751843 208.67086818 205.6943181  193.12599271 201.91548786\n",
            " 204.25139588 209.47986967 197.72545784 206.74026134 201.84056088\n",
            " 198.79090442 201.72741781 201.72741781 203.26823619 198.2197625\n",
            " 202.60809441 209.08117596 204.65700771 204.90093133 200.33554366\n",
            " 210.14111653 205.63705689 210.14111653 196.94987274 209.95231826\n",
            " 209.4580136  195.43617759 196.68155534 210.24492125 208.03208802\n",
            " 196.73562925 206.74026134 198.5557364  207.58955202 209.14841349\n",
            " 201.14765542 210.32741776 201.02878351 193.2647745  207.48929368\n",
            " 206.71370858 196.40802757 202.78483747 210.26559072 208.104511\n",
            " 198.88388322 194.51917899 202.13790675 201.72741781 208.94573032\n",
            " 201.49836825 200.12498312 204.18794425 197.0557848  202.4291055\n",
            " 206.11651466 209.17075488 196.57278076 206.55333222 202.71440614\n",
            " 200.50175488 205.86471821 204.50238225 209.23756719 195.07650943\n",
            " 203.02861034 200.7474513  197.52277466 200.82840691 204.25139588\n",
            " 210.0993795  204.02805334 195.95902581 207.83711968 208.67086818\n",
            " 207.71387972 204.28301483 209.82503212 209.69658529 205.20001343\n",
            " 208.08041135 206.60699414 203.30213811 206.08875852 197.21317456\n",
            " 201.22634969 203.8988209  210.18273026 199.56232434 200.41889442\n",
            " 209.93118362 203.70272162 206.49946509 207.48929368 200.70679835\n",
            " 209.65350808 196.12908306 207.66428024 193.12599271 194.06992149\n",
            " 209.41419945 209.63191997 198.2197625  198.83747054 208.53139935\n",
            " 208.20049936 199.78139932 195.84450292 202.60809441 209.54523516\n",
            " 209.56695642 195.67095365 208.15258694 194.83152521 199.47373136\n",
            " 203.93124033 199.42922504 202.78483747 197.82571618 197.52277466\n",
            " 207.10683839 195.90188075 198.69730781 206.22699552 198.50822796\n",
            " 208.90029081 193.80661967 194.76960759 210.61240916 197.0557848\n",
            " 208.24824936 200.58413077 204.96125793 209.88881896 196.89661658\n",
            " 209.63191997 202.60809441 202.88982855 202.81992152 204.71838574\n",
            " 197.0557848  207.36295886 199.02221073 202.78483747 199.42922504\n",
            " 206.68710566 198.36473364 206.9247423  193.74001795 196.01593998\n",
            " 197.6750598  208.60130638 210.0155326  193.60586229 208.31957223\n",
            " 210.34796661 209.97342124 208.05627041 207.46411719 209.32616018\n",
            " 210.5315697  204.90093133 205.97718378 209.78234652 210.22422142\n",
            " 208.83185551 203.09749183 202.57247811 206.11651466 205.28851364\n",
            " 204.96125793 203.33595862 205.86471821 210.45026363 205.94915145\n",
            " 203.96358532 204.31456297 195.72904131 209.91001722 204.6262181\n",
            " 198.2197625  201.38243148 194.32839182 201.57513267 208.83185551\n",
            " 201.61335858 210.45026363 203.8988209  197.00292831 202.64362087\n",
            " 193.60586229 194.58220477 208.64771906 205.46386326 209.12603662\n",
            " 209.32616018 205.83646095 202.95939036 197.87557902 195.67095365]\n"
          ],
          "name": "stdout"
        }
      ]
    },
    {
      "cell_type": "code",
      "metadata": {
        "id": "5ORzpPh2Xl3j",
        "colab": {
          "base_uri": "https://localhost:8080/"
        },
        "outputId": "7d741998-c04d-4a07-cb04-4cca00fa64d2"
      },
      "source": [
        "#input d(distance(m)), fc(frequency(MHz)), cm(area type(urban,suburban,open)), ht(tx height(m)), hr(rx height(m))\n",
        "pathlossdb_open=ploss(d,fc[2],cm[2],ht,hr)\n",
        "print(pathlossdb_open)"
      ],
      "execution_count": 12,
      "outputs": [
        {
          "output_type": "stream",
          "text": [
            "[190.07251974 188.68586949 185.7093194  173.14099401 181.93048916\n",
            " 184.26639718 189.49487098 177.74045914 186.75526265 181.85556219\n",
            " 178.80590573 181.74241911 181.74241911 183.2832375  178.23476381\n",
            " 182.62309571 189.09617726 184.67200901 184.91593264 180.35054496\n",
            " 190.15611783 185.65205819 190.15611783 176.96487404 189.96731957\n",
            " 189.4730149  175.4511789  176.69655664 190.25992256 188.04708933\n",
            " 176.75063056 186.75526265 178.5707377  187.60455332 189.1634148\n",
            " 181.16265672 190.34241906 181.04378482 173.2797758  187.50429498\n",
            " 186.72870988 176.42302887 182.79983878 190.28059202 188.1195123\n",
            " 178.89888453 174.5341803  182.15290806 181.74241911 188.96073163\n",
            " 181.51336955 180.13998443 184.20294555 177.0707861  182.4441068\n",
            " 186.13151597 189.18575618 176.58778207 186.56833353 182.72940744\n",
            " 180.51675619 185.87971951 184.51738355 189.2525685  175.09151074\n",
            " 183.04361164 180.7624526  177.53777597 180.84340822 184.26639718\n",
            " 190.1143808  184.04305465 175.97402711 187.85212099 188.68586949\n",
            " 187.72888103 184.29801613 189.84003342 189.7115866  185.21501473\n",
            " 188.09541266 186.62199545 183.31713941 186.10375982 177.22817587\n",
            " 181.24135099 183.9138222  190.19773156 179.57732564 180.43389573\n",
            " 189.94618492 183.71772292 186.5144664  187.50429498 180.72179965\n",
            " 189.66850938 176.14408436 187.67928155 173.14099401 174.0849228\n",
            " 189.42920075 189.64692128 178.23476381 178.85247184 188.54640065\n",
            " 188.21550066 179.79640063 175.85950423 182.62309571 189.56023646\n",
            " 189.58195773 175.68595496 188.16758824 174.84652652 179.48873266\n",
            " 183.94624164 179.44422634 182.79983878 177.84071748 177.53777597\n",
            " 187.1218397  175.91688206 178.71230912 186.24199683 178.52322927\n",
            " 188.91529211 173.82162097 174.78460889 190.62741047 177.0707861\n",
            " 188.26325067 180.59913208 184.97625923 189.90382027 176.91161788\n",
            " 189.64692128 182.62309571 182.90482985 182.83492282 184.73338705\n",
            " 177.0707861  187.37796016 179.03721203 182.79983878 179.44422634\n",
            " 186.70210697 178.37973494 186.9397436  173.75501925 176.03094128\n",
            " 177.6900611  188.61630768 190.0305339  173.62086359 188.33457354\n",
            " 190.36296792 189.98842255 188.07127171 187.4791185  189.34116148\n",
            " 190.54657101 184.91593264 185.99218508 189.79734782 190.23922272\n",
            " 188.84685681 183.11249314 182.58747941 186.13151597 185.30351495\n",
            " 184.97625923 183.35095993 185.87971951 190.46526494 185.96415276\n",
            " 183.97858663 184.32956427 175.74404262 189.92501852 184.64121941\n",
            " 178.23476381 181.39743279 174.34339312 181.59013398 188.84685681\n",
            " 181.62835988 190.46526494 183.9138222  177.01792961 182.65862218\n",
            " 173.62086359 174.59720607 188.66272037 185.47886457 189.14103793\n",
            " 189.34116148 185.85146226 182.97439166 177.89058032 175.68595496]\n"
          ],
          "name": "stdout"
        }
      ]
    },
    {
      "cell_type": "code",
      "metadata": {
        "id": "dpDsK6_dQXJU",
        "colab": {
          "base_uri": "https://localhost:8080/",
          "height": 279
        },
        "outputId": "44e27361-152d-4129-b0ef-ec84c9111d33"
      },
      "source": [
        "plt.figure()\n",
        "plt.plot(d,pathlossdb_urban)\n",
        "plt.plot(d,pathlossdb_suburban)\n",
        "plt.plot(d,pathlossdb_open)\n",
        "plt.legend(['urban', 'suburban', 'open'], loc='upper left')\n",
        "plt.xlabel('Distance (m)')\n",
        "plt.ylabel('Path Loss (dB)')\n",
        "plt.show()"
      ],
      "execution_count": 13,
      "outputs": [
        {
          "output_type": "display_data",
          "data": {
            "image/png": "[encoded data removed]",
            "text/plain": [
              "<Figure size 432x288 with 1 Axes>"
            ]
          },
          "metadata": {
            "tags": [],
            "needs_background": "light"
          }
        }
      ]
    },
    {
      "cell_type": "code",
      "metadata": {
        "id": "YX3Sjz5QQq2X"
      },
      "source": [
        "d_sort=d[np.argsort(d)]\n",
        "urban_sort=pathlossdb_urban[np.argsort(d)]\n",
        "suburban_sort=pathlossdb_suburban[np.argsort(d)]\n",
        "open_sort=pathlossdb_open[np.argsort(d)]"
      ],
      "execution_count": 14,
      "outputs": []
    },
    {
      "cell_type": "code",
      "metadata": {
        "id": "TBfeWKUZQyoG",
        "colab": {
          "base_uri": "https://localhost:8080/",
          "height": 279
        },
        "outputId": "243a7f7b-f079-4f4b-f2fd-4e460715b28f"
      },
      "source": [
        "plt.figure()\n",
        "plt.plot(d_sort,urban_sort)\n",
        "plt.plot(d_sort,suburban_sort)\n",
        "plt.plot(d_sort,open_sort)\n",
        "plt.legend(['urban', 'suburban', 'open'], loc='upper left')\n",
        "plt.xlabel('Distance (m)')\n",
        "plt.ylabel('Path Loss (dB)')\n",
        "plt.show()"
      ],
      "execution_count": 15,
      "outputs": [
        {
          "output_type": "display_data",
          "data": {
            "image/png": "[encoded data removed]",
            "text/plain": [
              "<Figure size 432x288 with 1 Axes>"
            ]
          },
          "metadata": {
            "tags": [],
            "needs_background": "light"
          }
        }
      ]
    },
    {
      "cell_type": "markdown",
      "metadata": {
        "id": "LVGpoBefc2nI"
      },
      "source": [
        "#Graph of Path Loss COST231 Hata Model with frequency 700Mhz, 900MHz, and 1800MHz at Urban Area\n",
        "1. print frequency (fc) and area type (cm)\n",
        "2. calculate and print path loss of freq 700 at urban area\n",
        "3. calculate and print path loss of freq 900 at urban area\n",
        "4. calculate and print path loss of freq 1800 at urban area\n",
        "5. show graph plot unsorted\n",
        "6. sort the arrays of path loss\n",
        "7. show graph plot sorted\n"
      ]
    },
    {
      "cell_type": "code",
      "metadata": {
        "id": "qHKKN0duc77S",
        "colab": {
          "base_uri": "https://localhost:8080/"
        },
        "outputId": "6ed992eb-78a4-4caf-edbe-601300825183"
      },
      "source": [
        "print(fc[0])\n",
        "print(fc[1])\n",
        "print(fc[2])\n",
        "print(cm[0])"
      ],
      "execution_count": 16,
      "outputs": [
        {
          "output_type": "stream",
          "text": [
            "700\n",
            "900\n",
            "1800\n",
            "urban\n"
          ],
          "name": "stdout"
        }
      ]
    },
    {
      "cell_type": "code",
      "metadata": {
        "id": "xprR-k9UdKh2",
        "colab": {
          "base_uri": "https://localhost:8080/"
        },
        "outputId": "266a72ad-e552-47dd-c3e7-ce3d1fab59c7"
      },
      "source": [
        "#input d(distance(m)), fc(frequency(MHz)), cm(area type(urban,suburban,open)), ht(tx height(m)), hr(rx height(m))\n",
        "pathlossdb_700=ploss(d,fc[0],cm[0],ht,hr)\n",
        "print(pathlossdb_urban)"
      ],
      "execution_count": 17,
      "outputs": [
        {
          "output_type": "stream",
          "text": [
            "[221.99607433 220.60942409 217.632874   205.06454861 213.85404376\n",
            " 216.18995178 221.41842557 209.66401374 218.67881724 213.77911679\n",
            " 210.72946032 213.66597371 213.66597371 215.20679209 210.1583184\n",
            " 214.54665031 221.01973186 216.59556361 216.83948723 212.27409956\n",
            " 222.07967243 217.57561279 222.07967243 208.88842864 221.89087416\n",
            " 221.3965695  207.37473349 208.62011124 222.18347715 219.97064392\n",
            " 208.67418515 218.67881724 210.4942923  219.52810792 221.0869694\n",
            " 213.08621132 222.26597366 212.96733941 205.2033304  219.42784958\n",
            " 218.65226448 208.34658347 214.72339337 222.20414662 220.0430669\n",
            " 210.82243913 206.45773489 214.07646266 213.66597371 220.88428622\n",
            " 213.43692415 212.06353902 216.12650015 208.9943407  214.3676614\n",
            " 218.05507056 221.10931078 208.51133666 218.49188812 214.65296204\n",
            " 212.44031078 217.80327411 216.44093815 221.1761231  207.01506533\n",
            " 214.96716624 212.6860072  209.46133056 212.76696281 216.18995178\n",
            " 222.0379354  215.96660924 207.89758171 219.77567558 220.60942409\n",
            " 219.65243562 216.22157073 221.76358802 221.63514119 217.13856933\n",
            " 220.01896725 218.54555004 215.24069401 218.02731442 209.15173046\n",
            " 213.16490559 215.8373768  222.12128616 211.50088024 212.35745032\n",
            " 221.86973952 215.64127752 218.43802099 219.42784958 212.64535425\n",
            " 221.59206398 208.06763896 219.60283614 205.06454861 206.00847739\n",
            " 221.35275535 221.57047587 210.1583184  210.77602644 220.46995525\n",
            " 220.13905526 211.71995522 207.78305882 214.54665031 221.48379106\n",
            " 221.50551233 207.60950955 220.09114284 206.77008112 211.41228726\n",
            " 215.86979623 211.36778094 214.72339337 209.76427208 209.46133056\n",
            " 219.04539429 207.84043665 210.63586371 218.16555142 210.44678386\n",
            " 220.83884671 205.74517557 206.70816349 222.55096506 208.9943407\n",
            " 220.18680526 212.52268667 216.89981383 221.82737486 208.83517248\n",
            " 221.57047587 214.54665031 214.82838445 214.75847742 216.65694164\n",
            " 208.9943407  219.30151476 210.96076663 214.72339337 211.36778094\n",
            " 218.62566156 210.30328954 218.8632982  205.67857385 207.95449588\n",
            " 209.6136157  220.53986228 221.9540885  205.54441819 220.25812813\n",
            " 222.28652251 221.91197714 219.99482631 219.4026731  221.26471608\n",
            " 222.4701256  216.83948723 217.91573968 221.72090242 222.16277732\n",
            " 220.77041141 215.03604773 214.51103401 218.05507056 217.22706954\n",
            " 216.89981383 215.27451452 217.80327411 222.38881953 217.88770735\n",
            " 215.90214122 216.25311887 207.66759721 221.84857312 216.564774\n",
            " 210.1583184  213.32098738 206.26694772 213.51368857 220.77041141\n",
            " 213.55191448 222.38881953 215.8373768  208.94148421 214.58217678\n",
            " 205.54441819 206.52076067 220.58627496 217.40241916 221.06459252\n",
            " 221.26471608 217.77501685 214.89794626 209.81413492 207.60950955]\n"
          ],
          "name": "stdout"
        }
      ]
    },
    {
      "cell_type": "code",
      "metadata": {
        "id": "bJ2iu2JidLCt",
        "colab": {
          "base_uri": "https://localhost:8080/"
        },
        "outputId": "d1d1d3f4-042b-4df1-c8e5-10554eea2026"
      },
      "source": [
        "#input d(distance(m)), fc(frequency(MHz)), cm(area type(urban,suburban,open)), ht(tx height(m)), hr(rx height(m))\n",
        "pathlossdb_900=ploss(d,fc[1],cm[0],ht,hr)\n",
        "print(pathlossdb_urban)"
      ],
      "execution_count": 18,
      "outputs": [
        {
          "output_type": "stream",
          "text": [
            "[221.99607433 220.60942409 217.632874   205.06454861 213.85404376\n",
            " 216.18995178 221.41842557 209.66401374 218.67881724 213.77911679\n",
            " 210.72946032 213.66597371 213.66597371 215.20679209 210.1583184\n",
            " 214.54665031 221.01973186 216.59556361 216.83948723 212.27409956\n",
            " 222.07967243 217.57561279 222.07967243 208.88842864 221.89087416\n",
            " 221.3965695  207.37473349 208.62011124 222.18347715 219.97064392\n",
            " 208.67418515 218.67881724 210.4942923  219.52810792 221.0869694\n",
            " 213.08621132 222.26597366 212.96733941 205.2033304  219.42784958\n",
            " 218.65226448 208.34658347 214.72339337 222.20414662 220.0430669\n",
            " 210.82243913 206.45773489 214.07646266 213.66597371 220.88428622\n",
            " 213.43692415 212.06353902 216.12650015 208.9943407  214.3676614\n",
            " 218.05507056 221.10931078 208.51133666 218.49188812 214.65296204\n",
            " 212.44031078 217.80327411 216.44093815 221.1761231  207.01506533\n",
            " 214.96716624 212.6860072  209.46133056 212.76696281 216.18995178\n",
            " 222.0379354  215.96660924 207.89758171 219.77567558 220.60942409\n",
            " 219.65243562 216.22157073 221.76358802 221.63514119 217.13856933\n",
            " 220.01896725 218.54555004 215.24069401 218.02731442 209.15173046\n",
            " 213.16490559 215.8373768  222.12128616 211.50088024 212.35745032\n",
            " 221.86973952 215.64127752 218.43802099 219.42784958 212.64535425\n",
            " 221.59206398 208.06763896 219.60283614 205.06454861 206.00847739\n",
            " 221.35275535 221.57047587 210.1583184  210.77602644 220.46995525\n",
            " 220.13905526 211.71995522 207.78305882 214.54665031 221.48379106\n",
            " 221.50551233 207.60950955 220.09114284 206.77008112 211.41228726\n",
            " 215.86979623 211.36778094 214.72339337 209.76427208 209.46133056\n",
            " 219.04539429 207.84043665 210.63586371 218.16555142 210.44678386\n",
            " 220.83884671 205.74517557 206.70816349 222.55096506 208.9943407\n",
            " 220.18680526 212.52268667 216.89981383 221.82737486 208.83517248\n",
            " 221.57047587 214.54665031 214.82838445 214.75847742 216.65694164\n",
            " 208.9943407  219.30151476 210.96076663 214.72339337 211.36778094\n",
            " 218.62566156 210.30328954 218.8632982  205.67857385 207.95449588\n",
            " 209.6136157  220.53986228 221.9540885  205.54441819 220.25812813\n",
            " 222.28652251 221.91197714 219.99482631 219.4026731  221.26471608\n",
            " 222.4701256  216.83948723 217.91573968 221.72090242 222.16277732\n",
            " 220.77041141 215.03604773 214.51103401 218.05507056 217.22706954\n",
            " 216.89981383 215.27451452 217.80327411 222.38881953 217.88770735\n",
            " 215.90214122 216.25311887 207.66759721 221.84857312 216.564774\n",
            " 210.1583184  213.32098738 206.26694772 213.51368857 220.77041141\n",
            " 213.55191448 222.38881953 215.8373768  208.94148421 214.58217678\n",
            " 205.54441819 206.52076067 220.58627496 217.40241916 221.06459252\n",
            " 221.26471608 217.77501685 214.89794626 209.81413492 207.60950955]\n"
          ],
          "name": "stdout"
        }
      ]
    },
    {
      "cell_type": "code",
      "metadata": {
        "id": "O1OkYIbFdLkK",
        "colab": {
          "base_uri": "https://localhost:8080/"
        },
        "outputId": "b198fa68-d9ec-4b7e-bfc5-911c1b5b6295"
      },
      "source": [
        "#input d(distance(m)), fc(frequency(MHz)), cm(area type(urban,suburban,open)), ht(tx height(m)), hr(rx height(m))\n",
        "pathlossdb_1800=ploss(d,fc[2],cm[0],ht,hr)\n",
        "print(pathlossdb_urban)"
      ],
      "execution_count": 19,
      "outputs": [
        {
          "output_type": "stream",
          "text": [
            "[221.99607433 220.60942409 217.632874   205.06454861 213.85404376\n",
            " 216.18995178 221.41842557 209.66401374 218.67881724 213.77911679\n",
            " 210.72946032 213.66597371 213.66597371 215.20679209 210.1583184\n",
            " 214.54665031 221.01973186 216.59556361 216.83948723 212.27409956\n",
            " 222.07967243 217.57561279 222.07967243 208.88842864 221.89087416\n",
            " 221.3965695  207.37473349 208.62011124 222.18347715 219.97064392\n",
            " 208.67418515 218.67881724 210.4942923  219.52810792 221.0869694\n",
            " 213.08621132 222.26597366 212.96733941 205.2033304  219.42784958\n",
            " 218.65226448 208.34658347 214.72339337 222.20414662 220.0430669\n",
            " 210.82243913 206.45773489 214.07646266 213.66597371 220.88428622\n",
            " 213.43692415 212.06353902 216.12650015 208.9943407  214.3676614\n",
            " 218.05507056 221.10931078 208.51133666 218.49188812 214.65296204\n",
            " 212.44031078 217.80327411 216.44093815 221.1761231  207.01506533\n",
            " 214.96716624 212.6860072  209.46133056 212.76696281 216.18995178\n",
            " 222.0379354  215.96660924 207.89758171 219.77567558 220.60942409\n",
            " 219.65243562 216.22157073 221.76358802 221.63514119 217.13856933\n",
            " 220.01896725 218.54555004 215.24069401 218.02731442 209.15173046\n",
            " 213.16490559 215.8373768  222.12128616 211.50088024 212.35745032\n",
            " 221.86973952 215.64127752 218.43802099 219.42784958 212.64535425\n",
            " 221.59206398 208.06763896 219.60283614 205.06454861 206.00847739\n",
            " 221.35275535 221.57047587 210.1583184  210.77602644 220.46995525\n",
            " 220.13905526 211.71995522 207.78305882 214.54665031 221.48379106\n",
            " 221.50551233 207.60950955 220.09114284 206.77008112 211.41228726\n",
            " 215.86979623 211.36778094 214.72339337 209.76427208 209.46133056\n",
            " 219.04539429 207.84043665 210.63586371 218.16555142 210.44678386\n",
            " 220.83884671 205.74517557 206.70816349 222.55096506 208.9943407\n",
            " 220.18680526 212.52268667 216.89981383 221.82737486 208.83517248\n",
            " 221.57047587 214.54665031 214.82838445 214.75847742 216.65694164\n",
            " 208.9943407  219.30151476 210.96076663 214.72339337 211.36778094\n",
            " 218.62566156 210.30328954 218.8632982  205.67857385 207.95449588\n",
            " 209.6136157  220.53986228 221.9540885  205.54441819 220.25812813\n",
            " 222.28652251 221.91197714 219.99482631 219.4026731  221.26471608\n",
            " 222.4701256  216.83948723 217.91573968 221.72090242 222.16277732\n",
            " 220.77041141 215.03604773 214.51103401 218.05507056 217.22706954\n",
            " 216.89981383 215.27451452 217.80327411 222.38881953 217.88770735\n",
            " 215.90214122 216.25311887 207.66759721 221.84857312 216.564774\n",
            " 210.1583184  213.32098738 206.26694772 213.51368857 220.77041141\n",
            " 213.55191448 222.38881953 215.8373768  208.94148421 214.58217678\n",
            " 205.54441819 206.52076067 220.58627496 217.40241916 221.06459252\n",
            " 221.26471608 217.77501685 214.89794626 209.81413492 207.60950955]\n"
          ],
          "name": "stdout"
        }
      ]
    },
    {
      "cell_type": "code",
      "metadata": {
        "id": "97JPBm6fdXGJ",
        "colab": {
          "base_uri": "https://localhost:8080/",
          "height": 279
        },
        "outputId": "2388e9db-385d-4e52-d9ee-edcd014ed5c8"
      },
      "source": [
        "plt.figure()\n",
        "plt.plot(d,pathlossdb_700)\n",
        "plt.plot(d,pathlossdb_900)\n",
        "plt.plot(d,pathlossdb_1800)\n",
        "plt.legend(['700','900','1800'], loc='upper left')\n",
        "plt.xlabel('Distance (m)')\n",
        "plt.ylabel('Path Loss (dB)')\n",
        "plt.show()"
      ],
      "execution_count": 20,
      "outputs": [
        {
          "output_type": "display_data",
          "data": {
            "image/png": "[encoded data removed]",
            "text/plain": [
              "<Figure size 432x288 with 1 Axes>"
            ]
          },
          "metadata": {
            "tags": [],
            "needs_background": "light"
          }
        }
      ]
    },
    {
      "cell_type": "code",
      "metadata": {
        "id": "uyxX9Inndp1r"
      },
      "source": [
        "d_sort=d[np.argsort(d)]\n",
        "fc700_sort=pathlossdb_700[np.argsort(d)]\n",
        "fc900_sort=pathlossdb_900[np.argsort(d)]\n",
        "fc1800_sort=pathlossdb_1800[np.argsort(d)]"
      ],
      "execution_count": 21,
      "outputs": []
    },
    {
      "cell_type": "code",
      "metadata": {
        "id": "TccTIgxTd0eG",
        "colab": {
          "base_uri": "https://localhost:8080/",
          "height": 279
        },
        "outputId": "cb42273e-af40-48e8-f0a8-6e4a8e9acb6d"
      },
      "source": [
        "plt.figure()\n",
        "plt.plot(d_sort,fc700_sort)\n",
        "plt.plot(d_sort,fc900_sort)\n",
        "plt.plot(d_sort,fc1800_sort)\n",
        "plt.legend(['700','900','1800'], loc='upper left')\n",
        "plt.xlabel('Distance (m)')\n",
        "plt.ylabel('Path Loss (dB)')\n",
        "plt.show()"
      ],
      "execution_count": 22,
      "outputs": [
        {
          "output_type": "display_data",
          "data": {
            "image/png": "[encoded data removed]",
            "text/plain": [
              "<Figure size 432x288 with 1 Axes>"
            ]
          },
          "metadata": {
            "tags": [],
            "needs_background": "light"
          }
        }
      ]
    }
  ]
}